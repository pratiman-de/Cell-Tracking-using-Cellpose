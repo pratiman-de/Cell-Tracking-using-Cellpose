{
 "cells": [
  {
   "cell_type": "code",
   "execution_count": 1,
   "metadata": {},
   "outputs": [
    {
     "name": "stderr",
     "output_type": "stream",
     "text": [
      "C:\\Users\\mbiv104\\AppData\\Local\\Packages\\PythonSoftwareFoundation.Python.3.11_qbz5n2kfra8p0\\LocalCache\\local-packages\\Python311\\site-packages\\tqdm\\auto.py:21: TqdmWarning: IProgress not found. Please update jupyter and ipywidgets. See https://ipywidgets.readthedocs.io/en/stable/user_install.html\n",
      "  from .autonotebook import tqdm as notebook_tqdm\n"
     ]
    }
   ],
   "source": [
    "import os\n",
    "import pandas as pd\n",
    "from tqdm.auto import tqdm"
   ]
  },
  {
   "cell_type": "code",
   "execution_count": 2,
   "metadata": {},
   "outputs": [],
   "source": [
    "path = 'c:/Users/mbiv104/Desktop/29_sep/y'\n",
    "scale = '100'"
   ]
  },
  {
   "cell_type": "code",
   "execution_count": 3,
   "metadata": {},
   "outputs": [
    {
     "name": "stderr",
     "output_type": "stream",
     "text": [
      "100%|██████████| 232/232 [00:19<00:00, 12.08it/s]\n"
     ]
    }
   ],
   "source": [
    "#Rename the column of CFP files\n",
    "\n",
    "folder_path = path+ '/CFP/imagej_' + scale\n",
    "\n",
    "# List all CSV files in the folder\n",
    "csv_files = [f for f in os.listdir(folder_path) if f.endswith(\".csv\")]\n",
    "\n",
    "for csv_file in tqdm(csv_files):\n",
    "    file_path = os.path.join(folder_path, csv_file)\n",
    "\n",
    "    # Read the CSV file using pandas\n",
    "    df = pd.read_csv(file_path)\n",
    "\n",
    "    # Check if 'mean' column exists and rename it to 'cfp_mean'\n",
    "    if 'Mean' in df.columns:\n",
    "        df.rename(columns={'Mean': 'cfp_Mean'}, inplace=True)\n",
    "\n",
    "        # Save the DataFrame back to the same CSV file\n",
    "        df.to_csv(file_path, index=False)"
   ]
  },
  {
   "cell_type": "code",
   "execution_count": 4,
   "metadata": {},
   "outputs": [
    {
     "name": "stderr",
     "output_type": "stream",
     "text": [
      "100%|██████████| 232/232 [00:10<00:00, 21.95it/s]\n"
     ]
    }
   ],
   "source": [
    "folder1_path = path + \"/CFP/imagej_\" + scale\n",
    "folder2_path = path + \"/YFP/imagej_\" + scale\n",
    "\n",
    "folder1_csv_files = [f for f in os.listdir(folder1_path) if f.endswith(\".csv\")]\n",
    "folder2_csv_files = [f for f in os.listdir(folder2_path) if f.endswith(\".csv\")]\n",
    "\n",
    "for csv_file in tqdm(folder1_csv_files):\n",
    "\n",
    "    file1_path = os.path.join(folder1_path, csv_file)\n",
    "    # Read the CSV file into a DataFrame\n",
    "    df = pd.read_csv(file1_path)\n",
    "    # List of column names to delete\n",
    "    columns_to_delete = [' ', 'XM', 'YM', 'Perim.', 'Area']\n",
    "    # Delete the specified columns\n",
    "    df = df.drop(columns=columns_to_delete)\n",
    "\n",
    "\n",
    "    df['serial_no'] = range(1, len(df) + 1)\n",
    "    df = df[['serial_no'] + [col for col in df.columns if col != 'serial_no']]\n",
    "    df.to_csv(file1_path, index=False)\n",
    "\n",
    "for csv_file in folder2_csv_files:\n",
    "    file2_path = os.path.join(folder2_path, csv_file)\n",
    "    df = pd.read_csv(file2_path)\n",
    "    df.rename(columns={\" \": \"serial_no\"}, inplace=True)\n",
    "    df.to_csv(file2_path, index=False)"
   ]
  },
  {
   "cell_type": "code",
   "execution_count": 5,
   "metadata": {},
   "outputs": [
    {
     "name": "stderr",
     "output_type": "stream",
     "text": [
      "100%|██████████| 232/232 [00:26<00:00,  8.81it/s]\n"
     ]
    }
   ],
   "source": [
    "\n",
    "# Iterate through the common CSV files (e.g., 1.csv, 2.csv, etc.)\n",
    "for csv_file in tqdm(folder1_csv_files):\n",
    "    if csv_file in folder2_csv_files:\n",
    "        file1_path = os.path.join(folder1_path, csv_file)\n",
    "        file2_path = os.path.join(folder2_path, csv_file)\n",
    "        \n",
    "        # Read both CSV files into DataFrames\n",
    "        df1 = pd.read_csv(file1_path)\n",
    "        df2 = pd.read_csv(file2_path)\n",
    "        \n",
    "        # Merge based on a common column (e.g., 'common_column_name')\n",
    "        merged_df = pd.merge(df2, df1[['serial_no', 'cfp_Mean']], on='serial_no', how='left')\n",
    "        \n",
    "        # Overwrite the CSV file in the second folder with the merged data\n",
    "        merged_df.to_csv(file2_path, index=False)\n"
   ]
  },
  {
   "cell_type": "code",
   "execution_count": 6,
   "metadata": {},
   "outputs": [
    {
     "name": "stderr",
     "output_type": "stream",
     "text": [
      "100%|██████████| 232/232 [00:26<00:00,  8.78it/s]\n"
     ]
    }
   ],
   "source": [
    "folder =  path + \"/YFP/imagej_\" + scale\n",
    "folder_csv_files = [f for f in os.listdir(folder1_path) if f.endswith(\".csv\")]\n",
    "\n",
    "for csv_file in tqdm(folder_csv_files):\n",
    "    file_path = os.path.join(folder, csv_file)\n",
    "    # Read the CSV file into a DataFrame\n",
    "    df = pd.read_csv(file_path)\n",
    "    df['FRET'] = df['Mean'] / df['cfp_Mean']\n",
    "    df.to_csv(file_path, index=False)"
   ]
  },
  {
   "cell_type": "code",
   "execution_count": 7,
   "metadata": {},
   "outputs": [
    {
     "name": "stderr",
     "output_type": "stream",
     "text": [
      "100%|██████████| 232/232 [01:11<00:00,  3.26it/s]\n"
     ]
    }
   ],
   "source": [
    "folder2_path = path + \"/analysis\"\n",
    "\n",
    "folder2_csv_files = [f for f in os.listdir(folder2_path) if f.endswith(\".csv\")]\n",
    "\n",
    "for csv_file in tqdm(folder2_csv_files):\n",
    "    file2_path = os.path.join(folder2_path, csv_file)\n",
    "    df = pd.read_csv(file2_path)\n",
    "\n",
    "    df['serial_no'] = range(1, len(df) + 1)\n",
    "\n",
    "\n",
    "    df = df[['serial_no'] + [col for col in df.columns if col != 'serial_no']]\n",
    "\n",
    "    df.to_csv(file2_path, index=False)"
   ]
  },
  {
   "cell_type": "code",
   "execution_count": 8,
   "metadata": {},
   "outputs": [
    {
     "name": "stderr",
     "output_type": "stream",
     "text": [
      "100%|██████████| 232/232 [01:39<00:00,  2.34it/s]\n"
     ]
    }
   ],
   "source": [
    "# Match ImageJ files with python files\n",
    "# Define the paths for input folders\n",
    "input_folder_1 = path + \"/YFP/imagej_\" + scale\n",
    "input_folder_2 = path + '/analysis'\n",
    "# Define the output folder\n",
    "output_folder = input_folder_1 + '/merged'\n",
    "os.makedirs(output_folder, exist_ok=True)\n",
    "# List all CSV files in the first input folder\n",
    "input_files_1 = [f for f in os.listdir(input_folder_1) if f.endswith('.csv')]\n",
    "\n",
    "# Process each input CSV file\n",
    "for input_file in tqdm(input_files_1):\n",
    "    # Construct the full paths for input files in both folders\n",
    "    input_csv_path_1 = os.path.join(input_folder_1, input_file)\n",
    "    input_csv_path_2 = os.path.join(input_folder_2, input_file)\n",
    "    \n",
    "    # Read the CSV files from both folders\n",
    "    data_1 = pd.read_csv(input_csv_path_1)\n",
    "    data_2 = pd.read_csv(input_csv_path_2)\n",
    "\n",
    "    # Merge the two DataFrames based on the \"serial_no\" column\n",
    "    merged_data = pd.merge(data_1, data_2, on='serial_no', how='left')\n",
    "\n",
    "    # Save the merged DataFrame to the output folder\n",
    "    output_csv_path = os.path.join(output_folder, input_file)\n",
    "    merged_data.to_csv(output_csv_path, index=False)"
   ]
  }
 ],
 "metadata": {
  "kernelspec": {
   "display_name": "Python 3",
   "language": "python",
   "name": "python3"
  },
  "language_info": {
   "codemirror_mode": {
    "name": "ipython",
    "version": 3
   },
   "file_extension": ".py",
   "mimetype": "text/x-python",
   "name": "python",
   "nbconvert_exporter": "python",
   "pygments_lexer": "ipython3",
   "version": "3.11.5"
  },
  "orig_nbformat": 4
 },
 "nbformat": 4,
 "nbformat_minor": 2
}
