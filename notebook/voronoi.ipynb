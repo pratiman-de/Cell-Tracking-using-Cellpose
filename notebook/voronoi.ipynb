{
 "cells": [
  {
   "cell_type": "code",
   "execution_count": 1,
   "metadata": {},
   "outputs": [
    {
     "name": "stderr",
     "output_type": "stream",
     "text": [
      "C:\\Users\\mbiv104\\AppData\\Local\\Packages\\PythonSoftwareFoundation.Python.3.11_qbz5n2kfra8p0\\LocalCache\\local-packages\\Python311\\site-packages\\tqdm\\auto.py:21: TqdmWarning: IProgress not found. Please update jupyter and ipywidgets. See https://ipywidgets.readthedocs.io/en/stable/user_install.html\n",
      "  from .autonotebook import tqdm as notebook_tqdm\n"
     ]
    }
   ],
   "source": [
    "import os\n",
    "import pandas as pd\n",
    "import numpy as np\n",
    "import matplotlib.pyplot as plt\n",
    "from matplotlib.colors import Normalize\n",
    "from matplotlib.cm import ScalarMappable\n",
    "from PIL import Image\n",
    "import cv2\n",
    "from matplotlib import cm\n",
    "from skimage.io import imread, imsave\n",
    "from tqdm.auto import tqdm\n",
    "from scipy.spatial import Voronoi, voronoi_plot_2d\n",
    "from skimage import img_as_ubyte, io"
   ]
  },
  {
   "cell_type": "code",
   "execution_count": 2,
   "metadata": {},
   "outputs": [],
   "source": [
    "path = 'C:/Users/mbiv104/Desktop/py_test'\n",
    "scale = '100'"
   ]
  },
  {
   "cell_type": "code",
   "execution_count": 3,
   "metadata": {},
   "outputs": [
    {
     "name": "stderr",
     "output_type": "stream",
     "text": [
      "100%|██████████| 6/6 [00:05<00:00,  1.16it/s]\n"
     ]
    }
   ],
   "source": [
    "tif_directory = path + '/YFP'\n",
    "csv_directory = path + '/YFP/imagej_' + scale + '/merged'\n",
    "output_directory = path + '/YFP/voronoi_' + scale\n",
    "os.makedirs(output_directory, exist_ok=True)\n",
    "\n",
    "# Iterate through TIF files in the TIF directory\n",
    "tif_files = [filename for filename in os.listdir(tif_directory) if filename.endswith('.tif')]\n",
    "\n",
    "for tif_filename in tqdm(tif_files):\n",
    "    tif_path = os.path.join(tif_directory, tif_filename)\n",
    "    csv_filename = tif_filename.replace('.tif', '.csv')\n",
    "    csv_path = os.path.join(csv_directory, csv_filename)\n",
    "\n",
    "    if os.path.exists(csv_path):\n",
    "        # Load the input grayscale TIF image\n",
    "        input_image = imread(tif_path)\n",
    "        image_shape = input_image.shape\n",
    "\n",
    "        # Load CSV file using pandas and extract required columns\n",
    "        coordinates_df = pd.read_csv(csv_path)\n",
    "\n",
    "        x = coordinates_df['XM'].values\n",
    "        y = coordinates_df['YM'].values\n",
    "                \n",
    "        # Create a list of points with the shifted coordinates\n",
    "        points = np.column_stack((x, y))\n",
    "\n",
    "        # Create a Voronoi object\n",
    "        vor = Voronoi(points)\n",
    "\n",
    "        # Create a black background RGB image based on input image dimensions\n",
    "        rgb_image = np.zeros((image_shape[0], image_shape[1], 3), dtype=np.uint16)\n",
    "\n",
    "        # Plot the Voronoi diagram on the RGB image\n",
    "        fig, ax = plt.subplots(figsize=(image_shape[1]/100, image_shape[0]/100), dpi=100)\n",
    "        voronoi_plot_2d(vor, show_vertices=False, ax=ax)\n",
    "        ax.set_xlim([0, image_shape[1]])\n",
    "        ax.set_ylim([0, image_shape[0]])\n",
    "\n",
    "        # Convert the plot to an RGB image with the same dimensions\n",
    "        plt.tight_layout()\n",
    "        plt.subplots_adjust(0, 0, 1, 1)\n",
    "        fig.canvas.draw()\n",
    "\n",
    "        # Convert the plot to an RGB image and scale it to uint16\n",
    "        plt_image = np.array(fig.canvas.renderer.buffer_rgba())[:, :, :-1]\n",
    "        rgb_image = img_as_ubyte(plt_image)\n",
    "\n",
    "        output_image_path = os.path.join(output_directory, f'frame_{tif_filename}')\n",
    "        imsave(output_image_path, rgb_image)\n",
    "        # Close the plot\n",
    "        plt.close()\n",
    "\n"
   ]
  }
 ],
 "metadata": {
  "kernelspec": {
   "display_name": "Python 3",
   "language": "python",
   "name": "python3"
  },
  "language_info": {
   "codemirror_mode": {
    "name": "ipython",
    "version": 3
   },
   "file_extension": ".py",
   "mimetype": "text/x-python",
   "name": "python",
   "nbconvert_exporter": "python",
   "pygments_lexer": "ipython3",
   "version": "3.11.6"
  },
  "orig_nbformat": 4
 },
 "nbformat": 4,
 "nbformat_minor": 2
}
