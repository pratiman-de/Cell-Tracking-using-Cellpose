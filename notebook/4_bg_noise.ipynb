{
 "cells": [
  {
   "cell_type": "code",
   "execution_count": 4,
   "metadata": {},
   "outputs": [],
   "source": [
    "import os\n",
    "import numpy as np\n",
    "import pandas as pd\n",
    "from skimage import io\n",
    "from tqdm.auto import tqdm"
   ]
  },
  {
   "cell_type": "code",
   "execution_count": 5,
   "metadata": {},
   "outputs": [],
   "source": [
    "path = 'c:/Users/mbiv104/Desktop/29_sep/y'\n",
    "scale = '100'"
   ]
  },
  {
   "cell_type": "code",
   "execution_count": 6,
   "metadata": {},
   "outputs": [
    {
     "name": "stderr",
     "output_type": "stream",
     "text": [
      "  0%|          | 0/233 [00:00<?, ?it/s]"
     ]
    },
    {
     "name": "stderr",
     "output_type": "stream",
     "text": [
      "100%|██████████| 233/233 [00:18<00:00, 12.73it/s]\n",
      "100%|██████████| 233/233 [00:18<00:00, 12.48it/s]\n"
     ]
    }
   ],
   "source": [
    "def process_tiff_file(tiff_path):\n",
    "    tiff_image = io.imread(tiff_path)\n",
    "    min_intensity = np.min(tiff_image)\n",
    "    return min_intensity\n",
    "\n",
    "channels = ['CFP', 'YFP']\n",
    "files = os.listdir(path)\n",
    "for channel in channels:\n",
    "    tif_folder_path = path + '/' + channel\n",
    "    csv_folder_path = tif_folder_path + '/imagej_' + scale\n",
    "\n",
    "    for tif_filename in tqdm(os.listdir(tif_folder_path)):\n",
    "        if tif_filename.endswith('.tif'):\n",
    "            tif_path = os.path.join(tif_folder_path, tif_filename)\n",
    "            \n",
    "            # Calculate the least pixel value in the TIFF file\n",
    "            min_intensity = process_tiff_file(tif_path)\n",
    "        \n",
    "            # Find the corresponding CSV file\n",
    "            csv_filename = os.path.splitext(tif_filename)[0] + '.csv'\n",
    "            csv_path = os.path.join(csv_folder_path, csv_filename)\n",
    "            \n",
    "            if os.path.exists(csv_path):\n",
    "                # Modify the \"mean\" column in the CSV file\n",
    "                df = pd.read_csv(csv_path)\n",
    "                if \"Mean\" in df.columns:\n",
    "                    df[\"Mean\"] = df[\"Mean\"] - min_intensity\n",
    "                    df.to_csv(csv_path, index=False)"
   ]
  }
 ],
 "metadata": {
  "kernelspec": {
   "display_name": "Python 3",
   "language": "python",
   "name": "python3"
  },
  "language_info": {
   "codemirror_mode": {
    "name": "ipython",
    "version": 3
   },
   "file_extension": ".py",
   "mimetype": "text/x-python",
   "name": "python",
   "nbconvert_exporter": "python",
   "pygments_lexer": "ipython3",
   "version": "3.11.5"
  },
  "orig_nbformat": 4
 },
 "nbformat": 4,
 "nbformat_minor": 2
}
