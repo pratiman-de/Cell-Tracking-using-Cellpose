{
 "cells": [
  {
   "cell_type": "markdown",
   "metadata": {},
   "source": [
    "The code takes .xml file and generates multiple (frames no.) .csv file with x_pos, y_pos, string of cell coordinates and cellid. The .csv files are named according to the frame no as 1.csv, 2.csv and so on. The output files are generated at the same folder as of this code. Please make sure there is no .csv files with that kind of names or it will be modified. The generated csv folder contains pos_x, pos_y, string (polygon coordinates) and cellid."
   ]
  },
  {
   "cell_type": "code",
   "execution_count": 1,
   "metadata": {},
   "outputs": [
    {
     "name": "stderr",
     "output_type": "stream",
     "text": [
      "C:\\Users\\mbiv104\\AppData\\Local\\Packages\\PythonSoftwareFoundation.Python.3.11_qbz5n2kfra8p0\\LocalCache\\local-packages\\Python311\\site-packages\\tqdm\\auto.py:21: TqdmWarning: IProgress not found. Please update jupyter and ipywidgets. See https://ipywidgets.readthedocs.io/en/stable/user_install.html\n",
      "  from .autonotebook import tqdm as notebook_tqdm\n"
     ]
    }
   ],
   "source": [
    "import xml.etree.ElementTree as ET\n",
    "import re\n",
    "import numpy as np\n",
    "import pandas as pd\n",
    "import os\n",
    "from tqdm.auto import tqdm"
   ]
  },
  {
   "cell_type": "markdown",
   "metadata": {},
   "source": [
    "Generate the xml file inside the path. Let's name the xml file 'yfp.xml'. Change the file name if required.\n",
    "The output folder is by default named 'analysis' which in created inside the path. Change the path. Run All."
   ]
  },
  {
   "cell_type": "code",
   "execution_count": 2,
   "metadata": {},
   "outputs": [],
   "source": [
    "path = 'c:/Users/mbiv104/Desktop/29_sep'\n",
    "file_path = path + '/' + 'YFP.xml'\n",
    "output_path = path + '/' + 'analysis'"
   ]
  },
  {
   "cell_type": "code",
   "execution_count": 3,
   "metadata": {},
   "outputs": [],
   "source": [
    "def find_line_numbers_with_term(xml_file, term):\n",
    "    line_numbers = []\n",
    "    \n",
    "    with open(xml_file, 'r') as f:\n",
    "        lines = f.readlines()\n",
    "    \n",
    "    for line_number, line in enumerate(lines, start=1):\n",
    "        if term in line:\n",
    "            line_numbers.append(line_number)\n",
    "    \n",
    "    return line_numbers\n",
    "\n",
    "def remove_until_char_found(input_str, target_char):\n",
    "    index = input_str.find(target_char)\n",
    "    if index != -1:\n",
    "        removed_chars = input_str[:index + 1]\n",
    "        remaining_str = input_str[index + 1:]\n",
    "    else:\n",
    "        removed_chars = \"\"\n",
    "        remaining_str = input_str\n",
    "    \n",
    "    return removed_chars, remaining_str\n",
    "\n",
    "def remove_from_back_until_char_found(input_str, target_char):\n",
    "    index = input_str.rfind(target_char)\n",
    "    if index != -1:\n",
    "        removed_chars = input_str[index:]\n",
    "        remaining_str = input_str[:index]\n",
    "    else:\n",
    "        removed_chars = \"\"\n",
    "        remaining_str = input_str\n",
    "    return removed_chars, remaining_str"
   ]
  },
  {
   "cell_type": "code",
   "execution_count": 4,
   "metadata": {},
   "outputs": [
    {
     "name": "stderr",
     "output_type": "stream",
     "text": [
      "100%|██████████| 3259036/3259036 [01:10<00:00, 46030.39it/s]\n"
     ]
    }
   ],
   "source": [
    "os.makedirs(output_path, exist_ok=True)\n",
    "tree = ET.parse(file_path)\n",
    "root = tree.getroot()\n",
    "a = find_line_numbers_with_term(file_path,\"<SpotsInFrame frame\")\n",
    "b = find_line_numbers_with_term(file_path,\"</SpotsInFrame>\")\n",
    "j = 1\n",
    "cellid_list, pos_x_list, pos_y_list, stri = [], [], [], []\n",
    "with open(file_path, 'r') as file:\n",
    "    lines = file.read().split('\\n')\n",
    "\n",
    "\n",
    "for i in tqdm(range(a[0], b[len(b)-1])):\n",
    "\n",
    "    data = {\"pos_x\": pos_x_list, \"pos_y\": pos_y_list, \"string\": stri, \"cellid\": cellid_list}\n",
    "    if len(lines[i]) <50:        \n",
    "        if len(lines[i]) < 24:\n",
    "            df = pd.DataFrame(data)\n",
    "            file_name = str(j) + '.csv'\n",
    "            df.to_csv(output_path + '/' + file_name, index=False)\n",
    "            j = j + 1\n",
    "            cellid_list, pos_x_list, pos_y_list, mean_intensity_list, median_intensity_list, total_intensity_list, stri = [], [], [], [], [], [], []\n",
    " \n",
    "            i = i + 1\n",
    "        else:\n",
    "            i = i + 1\n",
    "    else:\n",
    "        first, edit = remove_until_char_found(lines[i], '>') #it's editing the line_no i.e. the remaining string\n",
    "        end, number_st = remove_from_back_until_char_found(edit, '</')               \n",
    "        stri.append(number_st)\n",
    "        first, z = remove_until_char_found(first, '\"')\n",
    "       \n",
    "        first, z = remove_until_char_found(z, '\"')\n",
    "\n",
    "        cellid = first.replace('\"', '')\n",
    "        z, pos_x = remove_until_char_found(z, 'POSITION_X=')\n",
    "        \n",
    "        z, pos_x = remove_until_char_found(pos_x, '\"')\n",
    "        pos_x, z = remove_until_char_found(pos_x, '\"')\n",
    "        \n",
    "        pos_x = pos_x.replace('\"', '')\n",
    "        \n",
    "        z, pos_y = remove_until_char_found(z, '\"')\n",
    "        \n",
    "        pos_y, z = remove_until_char_found(pos_y, '\"')\n",
    "        pos_y = pos_y.replace('\"', '')\n",
    "        cellid_list.append(cellid)\n",
    "        pos_x_list.append(pos_x)\n",
    "        pos_y_list.append(pos_y) \n",
    "        i = i + 1       "
   ]
  }
 ],
 "metadata": {
  "kernelspec": {
   "display_name": "Python 3",
   "language": "python",
   "name": "python3"
  },
  "language_info": {
   "codemirror_mode": {
    "name": "ipython",
    "version": 3
   },
   "file_extension": ".py",
   "mimetype": "text/x-python",
   "name": "python",
   "nbconvert_exporter": "python",
   "pygments_lexer": "ipython3",
   "version": "3.11.5"
  },
  "orig_nbformat": 4
 },
 "nbformat": 4,
 "nbformat_minor": 2
}
