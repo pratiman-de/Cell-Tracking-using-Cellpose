{
 "cells": [
  {
   "cell_type": "code",
   "execution_count": 13,
   "metadata": {},
   "outputs": [],
   "source": [
    "import os\n",
    "import shutil\n",
    "import re"
   ]
  },
  {
   "cell_type": "markdown",
   "metadata": {},
   "source": [
    "This code rename (numerical) the cfp and yfp images and move them to folder CFP and YFP inside your path. Just change the path to\n",
    "the folder having the tif images generated using nis viewer. Run All."
   ]
  },
  {
   "cell_type": "code",
   "execution_count": null,
   "metadata": {},
   "outputs": [],
   "source": [
    "# Input string\n",
    "input_string = \"C:\\\\Users\\\\Username\\\\Documents\\\\file.txt\"\n",
    "\n",
    "# Replace backslashes with forward slashes\n",
    "modified_string = input_string.replace(\"\\\\\", \"/\")\n",
    "\n",
    "# Print the modified string\n",
    "print(\"Modified String:\", modified_string)"
   ]
  },
  {
   "cell_type": "code",
   "execution_count": 47,
   "metadata": {},
   "outputs": [],
   "source": [
    "path = r'C:\\Users\\mbiv104\\pratiman\\day11'\n",
    "channels = ['CFP', 'YFP', 'TD']"
   ]
  },
  {
   "cell_type": "code",
   "execution_count": 49,
   "metadata": {},
   "outputs": [
    {
     "data": {
      "text/plain": [
       "'C:/Users/mbiv104/pratiman/day11'"
      ]
     },
     "execution_count": 49,
     "metadata": {},
     "output_type": "execute_result"
    }
   ],
   "source": [
    "def convert_backslashes(path):\n",
    "    converted_path = ''\n",
    "    for char in path:\n",
    "        if char == '\\\\':\n",
    "            converted_path += '/'\n",
    "        else:\n",
    "            converted_path += char\n",
    "    return converted_path\n",
    "\n",
    "\n",
    "path = convert_backslashes(path)\n",
    "path"
   ]
  },
  {
   "cell_type": "code",
   "execution_count": null,
   "metadata": {},
   "outputs": [],
   "source": [
    "def extract_integer(filename):\n",
    "    match = re.search(r'\\d+', filename)\n",
    "    if match:\n",
    "        return match.group()\n",
    "    else:\n",
    "        return filename\n",
    "\n",
    "def generate_new_filename(folder_path, filename):\n",
    "    base_name, extension = os.path.splitext(filename)\n",
    "    integer_part = extract_integer(base_name)\n",
    "    \n",
    "    integer_part = str(int(integer_part))  # Convert to integer to remove leading zeros\n",
    "    new_filename = f\"{integer_part}{extension}\"\n",
    "    \n",
    "    counter = 1\n",
    "    while os.path.exists(os.path.join(folder_path, new_filename)):\n",
    "        new_filename = f\"{integer_part}_{counter}{extension}\"\n",
    "        counter += 1\n",
    "        \n",
    "    return new_filename\n",
    "\n",
    "def rename_tif_files(folder_path):\n",
    "    for filename in os.listdir(folder_path):\n",
    "        if filename.endswith('.tif'):\n",
    "            old_name = os.path.join(folder_path, filename)\n",
    "            new_name = os.path.join(folder_path, generate_new_filename(folder_path, filename))\n",
    "            os.rename(old_name, new_name)\n"
   ]
  },
  {
   "cell_type": "code",
   "execution_count": null,
   "metadata": {},
   "outputs": [],
   "source": [
    "# Rename the images and move them to respective files\n",
    "\n",
    "files = os.listdir(path)\n",
    "for channel in channels:\n",
    "    extension = channel + \".tif\"\n",
    "\n",
    "    destination_folder = path + '/' + channel\n",
    "    os.makedirs(destination_folder, exist_ok=True)\n",
    "\n",
    "    # Move files ending with cfp.tif and yfp.tif to the destination folder\n",
    "    for file in files:\n",
    "        if file.endswith(extension):\n",
    "            source_path = os.path.join(path, file)\n",
    "            destination_path = os.path.join(destination_folder, file)\n",
    "            shutil.move(source_path, destination_path)\n",
    "            #print(f\"Moved {file} to {destination_folder}\")\n",
    "    rename_tif_files(destination_folder)"
   ]
  },
  {
   "cell_type": "code",
   "execution_count": null,
   "metadata": {},
   "outputs": [],
   "source": [
    "# Delete the other files\n",
    "try:\n",
    "    # List all files in the folder\n",
    "    files = os.listdir(path)\n",
    "    \n",
    "    # Iterate through the list of files and delete each one\n",
    "    for file_name in files:\n",
    "        file_path = os.path.join(path, file_name)\n",
    "        if os.path.isfile(file_path):\n",
    "            os.remove(file_path)\n",
    "            #print(f\"Deleted: {file_path}\")\n",
    "    \n",
    "    #print(\"All files in the folder have been deleted.\")\n",
    "except OSError as e:\n",
    "    print(f\"Error deleting files in the folder: {e}\")"
   ]
  }
 ],
 "metadata": {
  "kernelspec": {
   "display_name": "Python 3",
   "language": "python",
   "name": "python3"
  },
  "language_info": {
   "codemirror_mode": {
    "name": "ipython",
    "version": 3
   },
   "file_extension": ".py",
   "mimetype": "text/x-python",
   "name": "python",
   "nbconvert_exporter": "python",
   "pygments_lexer": "ipython3",
   "version": "3.11.6"
  },
  "orig_nbformat": 4
 },
 "nbformat": 4,
 "nbformat_minor": 2
}
