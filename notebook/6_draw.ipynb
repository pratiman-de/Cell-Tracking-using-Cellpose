{
 "cells": [
  {
   "cell_type": "code",
   "execution_count": 1,
   "metadata": {},
   "outputs": [
    {
     "name": "stderr",
     "output_type": "stream",
     "text": [
      "C:\\Users\\mbiv104\\AppData\\Local\\Packages\\PythonSoftwareFoundation.Python.3.11_qbz5n2kfra8p0\\LocalCache\\local-packages\\Python311\\site-packages\\tqdm\\auto.py:21: TqdmWarning: IProgress not found. Please update jupyter and ipywidgets. See https://ipywidgets.readthedocs.io/en/stable/user_install.html\n",
      "  from .autonotebook import tqdm as notebook_tqdm\n"
     ]
    }
   ],
   "source": [
    "import os\n",
    "import pandas as pd\n",
    "import numpy as np\n",
    "import matplotlib.pyplot as plt\n",
    "from matplotlib.colors import Normalize\n",
    "from matplotlib.cm import ScalarMappable\n",
    "from PIL import Image\n",
    "import cv2\n",
    "import pandas as pd\n",
    "from matplotlib import cm\n",
    "from skimage.io import imread, imsave\n",
    "from tqdm.auto import tqdm"
   ]
  },
  {
   "cell_type": "code",
   "execution_count": 2,
   "metadata": {},
   "outputs": [
    {
     "name": "stderr",
     "output_type": "stream",
     "text": [
      "C:\\Users\\mbiv104\\AppData\\Local\\Temp\\ipykernel_4116\\2431601724.py:5: MatplotlibDeprecationWarning: The get_cmap function was deprecated in Matplotlib 3.7 and will be removed two minor releases later. Use ``matplotlib.colormaps[name]`` or ``matplotlib.colormaps.get_cmap(obj)`` instead.\n",
      "  cmap = cm.get_cmap('rainbow') # Color map for FRET values\n"
     ]
    }
   ],
   "source": [
    "path = 'c:/Users/mbiv104/Desktop/29_sep/y'\n",
    "scale = '100'\n",
    "fret_min = 0.99\n",
    "fret_max = 1.55\n",
    "cmap = cm.get_cmap('rainbow') # Color map for FRET values"
   ]
  },
  {
   "cell_type": "code",
   "execution_count": 3,
   "metadata": {},
   "outputs": [
    {
     "name": "stderr",
     "output_type": "stream",
     "text": [
      "  0%|          | 0/232 [00:00<?, ?it/s]"
     ]
    },
    {
     "name": "stderr",
     "output_type": "stream",
     "text": [
      "100%|██████████| 232/232 [01:36<00:00,  2.40it/s]\n"
     ]
    }
   ],
   "source": [
    "# Run this code only once if you get \"ValueError: cannot convert float NaN to integer\" in the next code block\n",
    "tif_directory = path + '/YFP'\n",
    "csv_directory = path + '/YFP/imagej_' + scale + '/merged'\n",
    "\n",
    "\n",
    "for filename in tqdm(os.listdir(csv_directory)):\n",
    "    if filename.endswith(\".csv\"):\n",
    "        # Construct the full file path\n",
    "        file_path = os.path.join(csv_directory, filename)\n",
    "\n",
    "        # Read the CSV file into a Pandas DataFrame\n",
    "        df = pd.read_csv(file_path)\n",
    "\n",
    "        # Drop rows with any empty cell\n",
    "        df.dropna(axis=0, how='any', inplace=True)\n",
    "\n",
    "        # Save the modified DataFrame back to the same CSV file\n",
    "        df.to_csv(file_path, index=False)\n"
   ]
  },
  {
   "cell_type": "code",
   "execution_count": 6,
   "metadata": {},
   "outputs": [
    {
     "name": "stderr",
     "output_type": "stream",
     "text": [
      "100%|██████████| 232/232 [06:00<00:00,  1.55s/it]\n"
     ]
    }
   ],
   "source": [
    "tif_directory = path + '/YFP'\n",
    "csv_directory = path + '/YFP/imagej_' + scale + '/merged'\n",
    "output_directory = path + '/YFP/image_' + scale + '/tif'\n",
    "os.makedirs(output_directory, exist_ok=True)\n",
    "\n",
    "# Iterate through TIF files in the TIF directory\n",
    "tif_files = [filename for filename in os.listdir(tif_directory) if filename.endswith('.tif')]\n",
    "\n",
    "for tif_filename in tqdm(tif_files):\n",
    "    tif_path = os.path.join(tif_directory, tif_filename)\n",
    "    csv_filename = tif_filename.replace('.tif', '.csv')\n",
    "    csv_path = os.path.join(csv_directory, csv_filename)\n",
    "\n",
    "    if os.path.exists(csv_path):\n",
    "        # Load the input grayscale TIF image\n",
    "        input_image = imread(tif_path)\n",
    "        image_shape = input_image.shape\n",
    "\n",
    "        # Load CSV file using pandas and extract required columns\n",
    "        coordinates_df = pd.read_csv(csv_path)\n",
    "        coordinates = coordinates_df[['XM', 'YM', 'FRET', 'string']].values\n",
    "\n",
    "        # Create a black background RGB image based on input image dimensions\n",
    "        rgb_image = np.zeros((image_shape[0], image_shape[1], 3), dtype=np.uint16)\n",
    "\n",
    "        # Process each coordinate and polygon\n",
    "        for x, y, fret_value, polygon_str in coordinates:\n",
    "            x = float(x)\n",
    "            y = float(y)\n",
    "            fret_value = float(fret_value)\n",
    "\n",
    "            # Scale the FRET value to the color map range\n",
    "            normalized_fret = (fret_value - fret_min) / (fret_max - fret_min)\n",
    "            fret_color = np.array(cmap(normalized_fret)[:3]) * 65535  # Convert to 16-bit range\n",
    "\n",
    "            # Parse polygon coordinates from the string\n",
    "            polygon_coords = list(map(float, polygon_str.strip().split()))\n",
    "\n",
    "            # Create the x and y lists for the polygon vertices\n",
    "            x_p = polygon_coords[0::2]\n",
    "            y_p = polygon_coords[1::2]\n",
    "\n",
    "            # Add the x and y values to every element of the lists\n",
    "            x_p = [int(x + value) for value in x_p]\n",
    "            y_p = [int(y + value) for value in y_p]\n",
    "\n",
    "            # Convert the vertices to numpy array\n",
    "            polygon_vertices = np.array(list(zip(x_p, y_p)), dtype=np.int32)\n",
    "\n",
    "            # Draw the polygon on the RGB image\n",
    "            cv2.fillPoly(rgb_image, [polygon_vertices], fret_color)\n",
    "\n",
    "        # Save the modified image in the output directory\n",
    "        output_image_path = os.path.join(output_directory, f'{tif_filename}')\n",
    "        imsave(output_image_path, rgb_image)\n"
   ]
  },
  {
   "cell_type": "code",
   "execution_count": 5,
   "metadata": {},
   "outputs": [
    {
     "name": "stderr",
     "output_type": "stream",
     "text": [
      "100%|██████████| 232/232 [00:38<00:00,  5.97it/s]\n"
     ]
    }
   ],
   "source": [
    "# Set the directory path where your TIFF images are located\n",
    "input_path = output_directory\n",
    "\n",
    "# Set the directory path where you want to save PNG images\n",
    "output_path = input_path + \"/png\"\n",
    "os.makedirs(output_path, exist_ok=True)\n",
    "# Get a list of all TIFF files in the input directory\n",
    "tiff_files = [f for f in os.listdir(input_path) if f.lower().endswith('.tif')]\n",
    "\n",
    "# Loop through the TIFF files and convert each to PNG\n",
    "for tiff_file in tqdm(tiff_files):\n",
    "    tiff_path = os.path.join(input_path, tiff_file)\n",
    "    img = Image.open(tiff_path)\n",
    "    \n",
    "    # Extract the image name (without extension) for PNG file naming\n",
    "    image_name = os.path.splitext(tiff_file)[0]\n",
    "    \n",
    "    # Save the image as PNG\n",
    "    png_path = os.path.join(output_path, image_name + \".png\")\n",
    "    img.save(png_path, format=\"PNG\")    \n",
    "    img.close()\n"
   ]
  }
 ],
 "metadata": {
  "kernelspec": {
   "display_name": "Python 3",
   "language": "python",
   "name": "python3"
  },
  "language_info": {
   "codemirror_mode": {
    "name": "ipython",
    "version": 3
   },
   "file_extension": ".py",
   "mimetype": "text/x-python",
   "name": "python",
   "nbconvert_exporter": "python",
   "pygments_lexer": "ipython3",
   "version": "3.11.5"
  },
  "orig_nbformat": 4
 },
 "nbformat": 4,
 "nbformat_minor": 2
}
